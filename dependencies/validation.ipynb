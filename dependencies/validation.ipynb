{
 "cells": [
  {
   "cell_type": "code",
   "execution_count": 3,
   "id": "a0b9883d",
   "metadata": {},
   "outputs": [],
   "source": [
    "from __future__ import print_function\n",
    "import mxnet as mx\n",
    "import numpy as np\n",
    "import glob\n",
    "import os\n",
    "from mxnet.contrib.onnx import import_model\n",
    "from cityscapes_loader import CityLoader"
   ]
  },
  {
   "cell_type": "code",
   "execution_count": 5,
   "id": "b9a84667",
   "metadata": {},
   "outputs": [],
   "source": [
    "# Determine and set context\n",
    "if len(mx.test_utils.list_gpus())==0:\n",
    "    ctx = mx.cpu()\n",
    "else:\n",
    "    ctx = mx.gpu(0)\n",
    "\n",
    "# Path to validation data\n",
    "data_dir = '/Users/arvindkumarsingh/Desktop/Oneapi/data/leftImg8bit/val'\n",
    "# Path to validation labels\n",
    "label_dir = '/Users/arvindkumarsingh/Desktop/Oneapi/data//gtFine/val'\n",
    "# Set batch size\n",
    "batch_size = 16"
   ]
  },
  {
   "cell_type": "code",
   "execution_count": 6,
   "id": "d9f636d3",
   "metadata": {},
   "outputs": [],
   "source": [
    "# mx.test_utils.download('https://s3.amazonaws.com/onnx-model-zoo/duc/ResNet101_DUC_HDC.onnx')\n",
    "# Path to ONNX model\n",
    "model_path = 'ResNet101_DUC_HDC.onnx'"
   ]
  },
  {
   "cell_type": "code",
   "execution_count": 7,
   "id": "efed91fe",
   "metadata": {},
   "outputs": [],
   "source": [
    "index = 0\n",
    "val_lst = []\n",
    "# images\n",
    "all_images = glob.glob(os.path.join(data_dir, '*/*.png'))\n",
    "all_images.sort()\n",
    "for p in all_images:\n",
    "    l = p.replace(data_dir, label_dir).replace('leftImg8bit', 'gtFine_labelIds')\n",
    "    if os.path.isfile(l):\n",
    "        index += 1\n",
    "        for i in range(1, 8):\n",
    "            val_lst.append([str(index), p, l, \"512\", str(256 * i)])\n",
    "\n",
    "val_out = open('val.lst', \"w\")\n",
    "for line in val_lst:\n",
    "    print('\\t'.join(line),file=val_out)"
   ]
  },
  {
   "cell_type": "code",
   "execution_count": 8,
   "id": "afe8f209",
   "metadata": {},
   "outputs": [],
   "source": [
    "def check_label_shapes(labels, preds, shape=0):\n",
    "    if shape == 0:\n",
    "        label_shape, pred_shape = len(labels), len(preds)\n",
    "    else:\n",
    "        label_shape, pred_shape = labels.shape, preds.shape\n",
    "\n",
    "    if label_shape != pred_shape:\n",
    "        raise ValueError(\"Shape of labels {} does not match shape of \"\n",
    "                         \"predictions {}\".format(label_shape, pred_shape))\n",
    "\n",
    "class IoUMetric(mx.metric.EvalMetric):\n",
    "    def __init__(self, ignore_label, label_num, name='IoU'):\n",
    "        self._ignore_label = ignore_label\n",
    "        self._label_num = label_num\n",
    "        super(IoUMetric, self).__init__(name=name)\n",
    "\n",
    "    def reset(self):\n",
    "        self._tp = [0.0] * self._label_num\n",
    "        self._denom = [0.0] * self._label_num\n",
    "\n",
    "    def update(self, labels, preds):\n",
    "        check_label_shapes(labels, preds)\n",
    "        for i in range(len(labels)):\n",
    "            pred_label = mx.ndarray.argmax_channel(preds[i]).asnumpy().astype('int32')\n",
    "            label = labels[i].asnumpy().astype('int32')\n",
    "\n",
    "            check_label_shapes(label, pred_label)\n",
    "\n",
    "            iou = 0\n",
    "            eps = 1e-6\n",
    "            for j in range(self._label_num):\n",
    "                pred_cur = (pred_label.flat == j)\n",
    "                gt_cur = (label.flat == j)\n",
    "                tp = np.logical_and(pred_cur, gt_cur).sum()\n",
    "                denom = np.logical_or(pred_cur, gt_cur).sum() - np.logical_and(pred_cur, label.flat == self._ignore_label).sum()\n",
    "                assert tp <= denom\n",
    "                self._tp[j] += tp\n",
    "                self._denom[j] += denom\n",
    "                iou += self._tp[j] / (self._denom[j] + eps)\n",
    "            iou /= self._label_num\n",
    "            self.sum_metric = iou\n",
    "            self.num_inst = 1\n",
    "\n",
    "            \n",
    "# Create evaluation metric\n",
    "met = IoUMetric(ignore_label=255, label_num=19, name=\"IoU\")\n",
    "metric = mx.metric.create(met)"
   ]
  },
  {
   "cell_type": "code",
   "execution_count": 9,
   "id": "b522fa85",
   "metadata": {},
   "outputs": [],
   "source": [
    "loader = CityLoader\n",
    "val_args = {\n",
    "    'data_path'             : data_dir,\n",
    "    'label_path'            : label_dir,\n",
    "    'rgb_mean'              : (122.675, 116.669, 104.008),\n",
    "    'batch_size'            : batch_size,\n",
    "    'scale_factors'         : [1],\n",
    "    'data_name'             : 'data',\n",
    "    'label_name'            : 'seg_loss_label',\n",
    "    'data_shape'            : [tuple(list([batch_size, 3, 800, 800]))],\n",
    "    'label_shape'           : [tuple([batch_size, (160000)])],\n",
    "    'use_random_crop'       : False,\n",
    "    'use_mirror'            : False,\n",
    "    'ds_rate'               : 8,\n",
    "    'convert_label'         : True,\n",
    "    'multi_thread'          : False,\n",
    "    'cell_width'            : 2,\n",
    "    'random_bound'          : [120,120],\n",
    "}\n",
    "val_dataloader = loader('val.lst', val_args)"
   ]
  },
  {
   "cell_type": "code",
   "execution_count": 10,
   "id": "13589c86",
   "metadata": {},
   "outputs": [
    {
     "name": "stdout",
     "output_type": "stream",
     "text": [
      "Calling mxnet.contrib.onnx.import_model...\n",
      "Please be advised that importing ONNX models into MXNet is going to be deprecated in the upcoming MXNet v1.10 release. The following apis will be deleted: mxnet.contrib.onnx.import_model/get_model_metadata/import_to_gluon.\n"
     ]
    },
    {
     "name": "stderr",
     "output_type": "stream",
     "text": [
      "[14:51:26] ../src/executor/graph_executor.cc:1991: Subgraph backend MKLDNN is activated.\n"
     ]
    }
   ],
   "source": [
    "# import ONNX model into MXNet symbols and params\n",
    "sym,arg,aux = import_model(model_path)\n",
    "# define network module\n",
    "mod = mx.mod.Module(symbol=sym, data_names=['data'], context=ctx, label_names=None)\n",
    "# bind parameters to the network\n",
    "mod.bind(for_training=False, data_shapes=[('data', (batch_size, 3, 800, 800))], label_shapes=mod._label_shapes)\n",
    "mod.set_params(arg_params=arg, aux_params=aux,allow_missing=True, allow_extra=True)"
   ]
  },
  {
   "cell_type": "code",
   "execution_count": null,
   "id": "ab1d0ceb",
   "metadata": {},
   "outputs": [
    {
     "name": "stdout",
     "output_type": "stream",
     "text": [
      "0 / 218 batches done\n"
     ]
    }
   ],
   "source": [
    "# reset data loader\n",
    "val_dataloader.reset()\n",
    "# reset evaluation metric\n",
    "metric.reset()\n",
    "# loop over batches\n",
    "for nbatch, eval_batch in enumerate(val_dataloader):\n",
    "    # perform forward pass\n",
    "    mod.forward(eval_batch, is_train=False)\n",
    "    # get outputs\n",
    "    outputs=mod.get_outputs()\n",
    "    # update evaluation metric\n",
    "    metric.update(eval_batch.label,outputs)\n",
    "    # print progress\n",
    "    if nbatch%10==0:\n",
    "        print('{} / {} batches done'.format(nbatch,int(3500/batch_size)))"
   ]
  },
  {
   "cell_type": "code",
   "execution_count": null,
   "id": "4001d064",
   "metadata": {},
   "outputs": [],
   "source": [
    "print(\"mean Intersection Over Union (mIOU): {}\".format(metric.get()[1]))"
   ]
  },
  {
   "cell_type": "code",
   "execution_count": null,
   "id": "b4fa16a9",
   "metadata": {},
   "outputs": [],
   "source": []
  }
 ],
 "metadata": {
  "kernelspec": {
   "display_name": "Python 3 (ipykernel)",
   "language": "python",
   "name": "python3"
  },
  "language_info": {
   "codemirror_mode": {
    "name": "ipython",
    "version": 3
   },
   "file_extension": ".py",
   "mimetype": "text/x-python",
   "name": "python",
   "nbconvert_exporter": "python",
   "pygments_lexer": "ipython3",
   "version": "3.9.13"
  }
 },
 "nbformat": 4,
 "nbformat_minor": 5
}
